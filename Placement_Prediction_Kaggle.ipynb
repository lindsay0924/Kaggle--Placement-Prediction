{
  "nbformat": 4,
  "nbformat_minor": 0,
  "metadata": {
    "colab": {
      "name": "Placement Prediction -Kaggle.ipynb",
      "provenance": [],
      "collapsed_sections": []
    },
    "kernelspec": {
      "name": "python3",
      "display_name": "Python 3"
    }
  },
  "cells": [
    {
      "cell_type": "code",
      "metadata": {
        "id": "MndDCuhzgXb5",
        "colab_type": "code",
        "colab": {}
      },
      "source": [
        "import numpy as np\n",
        "import pandas as pd\n",
        "import matplotlib.pyplot as plt\n",
        "import seaborn as sns\n",
        "import pandas_profiling\n",
        "%matplotlib inline\n",
        "import matplotlib.pyplot as plt\n",
        "import pandas as pd\n",
        "import numpy as np\n",
        "from pandas.plotting import scatter_matrix\n",
        "from sklearn.pipeline import make_pipeline\n",
        "from sklearn.ensemble import RandomForestClassifier\n",
        "from sklearn.preprocessing import StandardScaler\n",
        "from sklearn.model_selection import (cross_val_score, GridSearchCV,StratifiedKFold, RepeatedStratifiedKFold)\n",
        "from sklearn.metrics import (accuracy_score, average_precision_score,roc_auc_score, make_scorer)\n",
        "from sklearn import preprocessing\n",
        "from sklearn.tree import DecisionTreeClassifier\n",
        "from sklearn.ensemble import RandomForestClassifier\n",
        "from sklearn.model_selection import train_test_split\n",
        "from sklearn.metrics import accuracy_score, classification_report\n",
        "from sklearn.metrics import confusion_matrix\n",
        "from sklearn.preprocessing import MinMaxScaler\n",
        "from sklearn.linear_model import LogisticRegression\n",
        "from sklearn.neighbors import KNeighborsClassifier\n",
        "import statsmodels.api as sm"
      ],
      "execution_count": 0,
      "outputs": []
    },
    {
      "cell_type": "code",
      "metadata": {
        "id": "ZvFBse8Rg6pP",
        "colab_type": "code",
        "outputId": "0462ad81-0a38-4e09-9340-193ef13f45c8",
        "colab": {
          "base_uri": "https://localhost:8080/",
          "height": 34
        }
      },
      "source": [
        "from google.colab import drive\n",
        "drive.mount('/content/gdrive')"
      ],
      "execution_count": 71,
      "outputs": [
        {
          "output_type": "stream",
          "text": [
            "Drive already mounted at /content/gdrive; to attempt to forcibly remount, call drive.mount(\"/content/gdrive\", force_remount=True).\n"
          ],
          "name": "stdout"
        }
      ]
    },
    {
      "cell_type": "code",
      "metadata": {
        "id": "2y-Gigu6gr1j",
        "colab_type": "code",
        "outputId": "efb2dbe1-117f-4d6d-9709-7d5cb010a248",
        "colab": {
          "base_uri": "https://localhost:8080/",
          "height": 204
        }
      },
      "source": [
        "url = \"https://docs.google.com/spreadsheets/d/1a6PZi1oMqIQJP5f9MVtYRpdPG8dbWP9cD0mCRNsTEYw/gviz/tq?tqx=out:csv\"\n",
        "df = pd.read_csv(url)\n",
        "df.head()"
      ],
      "execution_count": 3,
      "outputs": [
        {
          "output_type": "execute_result",
          "data": {
            "text/html": [
              "<div>\n",
              "<style scoped>\n",
              "    .dataframe tbody tr th:only-of-type {\n",
              "        vertical-align: middle;\n",
              "    }\n",
              "\n",
              "    .dataframe tbody tr th {\n",
              "        vertical-align: top;\n",
              "    }\n",
              "\n",
              "    .dataframe thead th {\n",
              "        text-align: right;\n",
              "    }\n",
              "</style>\n",
              "<table border=\"1\" class=\"dataframe\">\n",
              "  <thead>\n",
              "    <tr style=\"text-align: right;\">\n",
              "      <th></th>\n",
              "      <th>sl_no</th>\n",
              "      <th>gender</th>\n",
              "      <th>ssc_p</th>\n",
              "      <th>ssc_b</th>\n",
              "      <th>hsc_p</th>\n",
              "      <th>hsc_b</th>\n",
              "      <th>hsc_s</th>\n",
              "      <th>degree_p</th>\n",
              "      <th>degree_t</th>\n",
              "      <th>workex</th>\n",
              "      <th>etest_p</th>\n",
              "      <th>specialisation</th>\n",
              "      <th>mba_p</th>\n",
              "      <th>status</th>\n",
              "      <th>salary</th>\n",
              "    </tr>\n",
              "  </thead>\n",
              "  <tbody>\n",
              "    <tr>\n",
              "      <th>0</th>\n",
              "      <td>1</td>\n",
              "      <td>M</td>\n",
              "      <td>67.00</td>\n",
              "      <td>Others</td>\n",
              "      <td>91.00</td>\n",
              "      <td>Others</td>\n",
              "      <td>Commerce</td>\n",
              "      <td>58.00</td>\n",
              "      <td>Sci&amp;Tech</td>\n",
              "      <td>No</td>\n",
              "      <td>55.0</td>\n",
              "      <td>Mkt&amp;HR</td>\n",
              "      <td>58.80</td>\n",
              "      <td>Placed</td>\n",
              "      <td>270000.0</td>\n",
              "    </tr>\n",
              "    <tr>\n",
              "      <th>1</th>\n",
              "      <td>2</td>\n",
              "      <td>M</td>\n",
              "      <td>79.33</td>\n",
              "      <td>Central</td>\n",
              "      <td>78.33</td>\n",
              "      <td>Others</td>\n",
              "      <td>Science</td>\n",
              "      <td>77.48</td>\n",
              "      <td>Sci&amp;Tech</td>\n",
              "      <td>Yes</td>\n",
              "      <td>86.5</td>\n",
              "      <td>Mkt&amp;Fin</td>\n",
              "      <td>66.28</td>\n",
              "      <td>Placed</td>\n",
              "      <td>200000.0</td>\n",
              "    </tr>\n",
              "    <tr>\n",
              "      <th>2</th>\n",
              "      <td>3</td>\n",
              "      <td>M</td>\n",
              "      <td>65.00</td>\n",
              "      <td>Central</td>\n",
              "      <td>68.00</td>\n",
              "      <td>Central</td>\n",
              "      <td>Arts</td>\n",
              "      <td>64.00</td>\n",
              "      <td>Comm&amp;Mgmt</td>\n",
              "      <td>No</td>\n",
              "      <td>75.0</td>\n",
              "      <td>Mkt&amp;Fin</td>\n",
              "      <td>57.80</td>\n",
              "      <td>Placed</td>\n",
              "      <td>250000.0</td>\n",
              "    </tr>\n",
              "    <tr>\n",
              "      <th>3</th>\n",
              "      <td>4</td>\n",
              "      <td>M</td>\n",
              "      <td>56.00</td>\n",
              "      <td>Central</td>\n",
              "      <td>52.00</td>\n",
              "      <td>Central</td>\n",
              "      <td>Science</td>\n",
              "      <td>52.00</td>\n",
              "      <td>Sci&amp;Tech</td>\n",
              "      <td>No</td>\n",
              "      <td>66.0</td>\n",
              "      <td>Mkt&amp;HR</td>\n",
              "      <td>59.43</td>\n",
              "      <td>Not Placed</td>\n",
              "      <td>NaN</td>\n",
              "    </tr>\n",
              "    <tr>\n",
              "      <th>4</th>\n",
              "      <td>5</td>\n",
              "      <td>M</td>\n",
              "      <td>85.80</td>\n",
              "      <td>Central</td>\n",
              "      <td>73.60</td>\n",
              "      <td>Central</td>\n",
              "      <td>Commerce</td>\n",
              "      <td>73.30</td>\n",
              "      <td>Comm&amp;Mgmt</td>\n",
              "      <td>No</td>\n",
              "      <td>96.8</td>\n",
              "      <td>Mkt&amp;Fin</td>\n",
              "      <td>55.50</td>\n",
              "      <td>Placed</td>\n",
              "      <td>425000.0</td>\n",
              "    </tr>\n",
              "  </tbody>\n",
              "</table>\n",
              "</div>"
            ],
            "text/plain": [
              "   sl_no gender  ssc_p    ssc_b  ...  specialisation  mba_p      status    salary\n",
              "0      1      M  67.00   Others  ...          Mkt&HR  58.80      Placed  270000.0\n",
              "1      2      M  79.33  Central  ...         Mkt&Fin  66.28      Placed  200000.0\n",
              "2      3      M  65.00  Central  ...         Mkt&Fin  57.80      Placed  250000.0\n",
              "3      4      M  56.00  Central  ...          Mkt&HR  59.43  Not Placed       NaN\n",
              "4      5      M  85.80  Central  ...         Mkt&Fin  55.50      Placed  425000.0\n",
              "\n",
              "[5 rows x 15 columns]"
            ]
          },
          "metadata": {
            "tags": []
          },
          "execution_count": 3
        }
      ]
    },
    {
      "cell_type": "code",
      "metadata": {
        "id": "LjFnlyhco_Sp",
        "colab_type": "code",
        "outputId": "03a6b068-42d9-416f-b6e3-2db0ed3c6bb5",
        "colab": {
          "base_uri": "https://localhost:8080/",
          "height": 187
        }
      },
      "source": [
        "corr = df.corr()\n",
        "corr.style.background_gradient(cmap='coolwarm')"
      ],
      "execution_count": 4,
      "outputs": [
        {
          "output_type": "execute_result",
          "data": {
            "text/html": [
              "<style  type=\"text/css\" >\n",
              "    #T_e89117b6_922a_11ea_ac71_0242ac1c0002row0_col0 {\n",
              "            background-color:  #b40426;\n",
              "            color:  #f1f1f1;\n",
              "        }    #T_e89117b6_922a_11ea_ac71_0242ac1c0002row0_col1 {\n",
              "            background-color:  #3b4cc0;\n",
              "            color:  #f1f1f1;\n",
              "        }    #T_e89117b6_922a_11ea_ac71_0242ac1c0002row0_col2 {\n",
              "            background-color:  #3b4cc0;\n",
              "            color:  #f1f1f1;\n",
              "        }    #T_e89117b6_922a_11ea_ac71_0242ac1c0002row0_col3 {\n",
              "            background-color:  #3b4cc0;\n",
              "            color:  #f1f1f1;\n",
              "        }    #T_e89117b6_922a_11ea_ac71_0242ac1c0002row0_col4 {\n",
              "            background-color:  #3b4cc0;\n",
              "            color:  #f1f1f1;\n",
              "        }    #T_e89117b6_922a_11ea_ac71_0242ac1c0002row0_col5 {\n",
              "            background-color:  #3b4cc0;\n",
              "            color:  #f1f1f1;\n",
              "        }    #T_e89117b6_922a_11ea_ac71_0242ac1c0002row0_col6 {\n",
              "            background-color:  #536edd;\n",
              "            color:  #000000;\n",
              "        }    #T_e89117b6_922a_11ea_ac71_0242ac1c0002row1_col0 {\n",
              "            background-color:  #3d50c3;\n",
              "            color:  #f1f1f1;\n",
              "        }    #T_e89117b6_922a_11ea_ac71_0242ac1c0002row1_col1 {\n",
              "            background-color:  #b40426;\n",
              "            color:  #f1f1f1;\n",
              "        }    #T_e89117b6_922a_11ea_ac71_0242ac1c0002row1_col2 {\n",
              "            background-color:  #e9d5cb;\n",
              "            color:  #000000;\n",
              "        }    #T_e89117b6_922a_11ea_ac71_0242ac1c0002row1_col3 {\n",
              "            background-color:  #eed0c0;\n",
              "            color:  #000000;\n",
              "        }    #T_e89117b6_922a_11ea_ac71_0242ac1c0002row1_col4 {\n",
              "            background-color:  #80a3fa;\n",
              "            color:  #000000;\n",
              "        }    #T_e89117b6_922a_11ea_ac71_0242ac1c0002row1_col5 {\n",
              "            background-color:  #b7cff9;\n",
              "            color:  #000000;\n",
              "        }    #T_e89117b6_922a_11ea_ac71_0242ac1c0002row1_col6 {\n",
              "            background-color:  #4a63d3;\n",
              "            color:  #f1f1f1;\n",
              "        }    #T_e89117b6_922a_11ea_ac71_0242ac1c0002row2_col0 {\n",
              "            background-color:  #3b4cc0;\n",
              "            color:  #f1f1f1;\n",
              "        }    #T_e89117b6_922a_11ea_ac71_0242ac1c0002row2_col1 {\n",
              "            background-color:  #e9d5cb;\n",
              "            color:  #000000;\n",
              "        }    #T_e89117b6_922a_11ea_ac71_0242ac1c0002row2_col2 {\n",
              "            background-color:  #b40426;\n",
              "            color:  #f1f1f1;\n",
              "        }    #T_e89117b6_922a_11ea_ac71_0242ac1c0002row2_col3 {\n",
              "            background-color:  #d7dce3;\n",
              "            color:  #000000;\n",
              "        }    #T_e89117b6_922a_11ea_ac71_0242ac1c0002row2_col4 {\n",
              "            background-color:  #799cf8;\n",
              "            color:  #000000;\n",
              "        }    #T_e89117b6_922a_11ea_ac71_0242ac1c0002row2_col5 {\n",
              "            background-color:  #adc9fd;\n",
              "            color:  #000000;\n",
              "        }    #T_e89117b6_922a_11ea_ac71_0242ac1c0002row2_col6 {\n",
              "            background-color:  #5875e1;\n",
              "            color:  #000000;\n",
              "        }    #T_e89117b6_922a_11ea_ac71_0242ac1c0002row3_col0 {\n",
              "            background-color:  #3b4cc0;\n",
              "            color:  #f1f1f1;\n",
              "        }    #T_e89117b6_922a_11ea_ac71_0242ac1c0002row3_col1 {\n",
              "            background-color:  #edd1c2;\n",
              "            color:  #000000;\n",
              "        }    #T_e89117b6_922a_11ea_ac71_0242ac1c0002row3_col2 {\n",
              "            background-color:  #d7dce3;\n",
              "            color:  #000000;\n",
              "        }    #T_e89117b6_922a_11ea_ac71_0242ac1c0002row3_col3 {\n",
              "            background-color:  #b40426;\n",
              "            color:  #f1f1f1;\n",
              "        }    #T_e89117b6_922a_11ea_ac71_0242ac1c0002row3_col4 {\n",
              "            background-color:  #7093f3;\n",
              "            color:  #000000;\n",
              "        }    #T_e89117b6_922a_11ea_ac71_0242ac1c0002row3_col5 {\n",
              "            background-color:  #bcd2f7;\n",
              "            color:  #000000;\n",
              "        }    #T_e89117b6_922a_11ea_ac71_0242ac1c0002row3_col6 {\n",
              "            background-color:  #3b4cc0;\n",
              "            color:  #f1f1f1;\n",
              "        }    #T_e89117b6_922a_11ea_ac71_0242ac1c0002row4_col0 {\n",
              "            background-color:  #6687ed;\n",
              "            color:  #000000;\n",
              "        }    #T_e89117b6_922a_11ea_ac71_0242ac1c0002row4_col1 {\n",
              "            background-color:  #a3c2fe;\n",
              "            color:  #000000;\n",
              "        }    #T_e89117b6_922a_11ea_ac71_0242ac1c0002row4_col2 {\n",
              "            background-color:  #a1c0ff;\n",
              "            color:  #000000;\n",
              "        }    #T_e89117b6_922a_11ea_ac71_0242ac1c0002row4_col3 {\n",
              "            background-color:  #9abbff;\n",
              "            color:  #000000;\n",
              "        }    #T_e89117b6_922a_11ea_ac71_0242ac1c0002row4_col4 {\n",
              "            background-color:  #b40426;\n",
              "            color:  #f1f1f1;\n",
              "        }    #T_e89117b6_922a_11ea_ac71_0242ac1c0002row4_col5 {\n",
              "            background-color:  #7b9ff9;\n",
              "            color:  #000000;\n",
              "        }    #T_e89117b6_922a_11ea_ac71_0242ac1c0002row4_col6 {\n",
              "            background-color:  #799cf8;\n",
              "            color:  #000000;\n",
              "        }    #T_e89117b6_922a_11ea_ac71_0242ac1c0002row5_col0 {\n",
              "            background-color:  #5a78e4;\n",
              "            color:  #000000;\n",
              "        }    #T_e89117b6_922a_11ea_ac71_0242ac1c0002row5_col1 {\n",
              "            background-color:  #cad8ef;\n",
              "            color:  #000000;\n",
              "        }    #T_e89117b6_922a_11ea_ac71_0242ac1c0002row5_col2 {\n",
              "            background-color:  #c1d4f4;\n",
              "            color:  #000000;\n",
              "        }    #T_e89117b6_922a_11ea_ac71_0242ac1c0002row5_col3 {\n",
              "            background-color:  #cfdaea;\n",
              "            color:  #000000;\n",
              "        }    #T_e89117b6_922a_11ea_ac71_0242ac1c0002row5_col4 {\n",
              "            background-color:  #6f92f3;\n",
              "            color:  #000000;\n",
              "        }    #T_e89117b6_922a_11ea_ac71_0242ac1c0002row5_col5 {\n",
              "            background-color:  #b40426;\n",
              "            color:  #f1f1f1;\n",
              "        }    #T_e89117b6_922a_11ea_ac71_0242ac1c0002row5_col6 {\n",
              "            background-color:  #779af7;\n",
              "            color:  #000000;\n",
              "        }    #T_e89117b6_922a_11ea_ac71_0242ac1c0002row6_col0 {\n",
              "            background-color:  #6687ed;\n",
              "            color:  #000000;\n",
              "        }    #T_e89117b6_922a_11ea_ac71_0242ac1c0002row6_col1 {\n",
              "            background-color:  #5a78e4;\n",
              "            color:  #000000;\n",
              "        }    #T_e89117b6_922a_11ea_ac71_0242ac1c0002row6_col2 {\n",
              "            background-color:  #6a8bef;\n",
              "            color:  #000000;\n",
              "        }    #T_e89117b6_922a_11ea_ac71_0242ac1c0002row6_col3 {\n",
              "            background-color:  #4e68d8;\n",
              "            color:  #000000;\n",
              "        }    #T_e89117b6_922a_11ea_ac71_0242ac1c0002row6_col4 {\n",
              "            background-color:  #6180e9;\n",
              "            color:  #000000;\n",
              "        }    #T_e89117b6_922a_11ea_ac71_0242ac1c0002row6_col5 {\n",
              "            background-color:  #6b8df0;\n",
              "            color:  #000000;\n",
              "        }    #T_e89117b6_922a_11ea_ac71_0242ac1c0002row6_col6 {\n",
              "            background-color:  #b40426;\n",
              "            color:  #f1f1f1;\n",
              "        }</style><table id=\"T_e89117b6_922a_11ea_ac71_0242ac1c0002\" ><thead>    <tr>        <th class=\"blank level0\" ></th>        <th class=\"col_heading level0 col0\" >sl_no</th>        <th class=\"col_heading level0 col1\" >ssc_p</th>        <th class=\"col_heading level0 col2\" >hsc_p</th>        <th class=\"col_heading level0 col3\" >degree_p</th>        <th class=\"col_heading level0 col4\" >etest_p</th>        <th class=\"col_heading level0 col5\" >mba_p</th>        <th class=\"col_heading level0 col6\" >salary</th>    </tr></thead><tbody>\n",
              "                <tr>\n",
              "                        <th id=\"T_e89117b6_922a_11ea_ac71_0242ac1c0002level0_row0\" class=\"row_heading level0 row0\" >sl_no</th>\n",
              "                        <td id=\"T_e89117b6_922a_11ea_ac71_0242ac1c0002row0_col0\" class=\"data row0 col0\" >1.000000</td>\n",
              "                        <td id=\"T_e89117b6_922a_11ea_ac71_0242ac1c0002row0_col1\" class=\"data row0 col1\" >-0.078155</td>\n",
              "                        <td id=\"T_e89117b6_922a_11ea_ac71_0242ac1c0002row0_col2\" class=\"data row0 col2\" >-0.085711</td>\n",
              "                        <td id=\"T_e89117b6_922a_11ea_ac71_0242ac1c0002row0_col3\" class=\"data row0 col3\" >-0.088281</td>\n",
              "                        <td id=\"T_e89117b6_922a_11ea_ac71_0242ac1c0002row0_col4\" class=\"data row0 col4\" >0.063636</td>\n",
              "                        <td id=\"T_e89117b6_922a_11ea_ac71_0242ac1c0002row0_col5\" class=\"data row0 col5\" >0.022327</td>\n",
              "                        <td id=\"T_e89117b6_922a_11ea_ac71_0242ac1c0002row0_col6\" class=\"data row0 col6\" >0.063764</td>\n",
              "            </tr>\n",
              "            <tr>\n",
              "                        <th id=\"T_e89117b6_922a_11ea_ac71_0242ac1c0002level0_row1\" class=\"row_heading level0 row1\" >ssc_p</th>\n",
              "                        <td id=\"T_e89117b6_922a_11ea_ac71_0242ac1c0002row1_col0\" class=\"data row1 col0\" >-0.078155</td>\n",
              "                        <td id=\"T_e89117b6_922a_11ea_ac71_0242ac1c0002row1_col1\" class=\"data row1 col1\" >1.000000</td>\n",
              "                        <td id=\"T_e89117b6_922a_11ea_ac71_0242ac1c0002row1_col2\" class=\"data row1 col2\" >0.511472</td>\n",
              "                        <td id=\"T_e89117b6_922a_11ea_ac71_0242ac1c0002row1_col3\" class=\"data row1 col3\" >0.538404</td>\n",
              "                        <td id=\"T_e89117b6_922a_11ea_ac71_0242ac1c0002row1_col4\" class=\"data row1 col4\" >0.261993</td>\n",
              "                        <td id=\"T_e89117b6_922a_11ea_ac71_0242ac1c0002row1_col5\" class=\"data row1 col5\" >0.388478</td>\n",
              "                        <td id=\"T_e89117b6_922a_11ea_ac71_0242ac1c0002row1_col6\" class=\"data row1 col6\" >0.035330</td>\n",
              "            </tr>\n",
              "            <tr>\n",
              "                        <th id=\"T_e89117b6_922a_11ea_ac71_0242ac1c0002level0_row2\" class=\"row_heading level0 row2\" >hsc_p</th>\n",
              "                        <td id=\"T_e89117b6_922a_11ea_ac71_0242ac1c0002row2_col0\" class=\"data row2 col0\" >-0.085711</td>\n",
              "                        <td id=\"T_e89117b6_922a_11ea_ac71_0242ac1c0002row2_col1\" class=\"data row2 col1\" >0.511472</td>\n",
              "                        <td id=\"T_e89117b6_922a_11ea_ac71_0242ac1c0002row2_col2\" class=\"data row2 col2\" >1.000000</td>\n",
              "                        <td id=\"T_e89117b6_922a_11ea_ac71_0242ac1c0002row2_col3\" class=\"data row2 col3\" >0.434206</td>\n",
              "                        <td id=\"T_e89117b6_922a_11ea_ac71_0242ac1c0002row2_col4\" class=\"data row2 col4\" >0.245113</td>\n",
              "                        <td id=\"T_e89117b6_922a_11ea_ac71_0242ac1c0002row2_col5\" class=\"data row2 col5\" >0.354823</td>\n",
              "                        <td id=\"T_e89117b6_922a_11ea_ac71_0242ac1c0002row2_col6\" class=\"data row2 col6\" >0.076819</td>\n",
              "            </tr>\n",
              "            <tr>\n",
              "                        <th id=\"T_e89117b6_922a_11ea_ac71_0242ac1c0002level0_row3\" class=\"row_heading level0 row3\" >degree_p</th>\n",
              "                        <td id=\"T_e89117b6_922a_11ea_ac71_0242ac1c0002row3_col0\" class=\"data row3 col0\" >-0.088281</td>\n",
              "                        <td id=\"T_e89117b6_922a_11ea_ac71_0242ac1c0002row3_col1\" class=\"data row3 col1\" >0.538404</td>\n",
              "                        <td id=\"T_e89117b6_922a_11ea_ac71_0242ac1c0002row3_col2\" class=\"data row3 col2\" >0.434206</td>\n",
              "                        <td id=\"T_e89117b6_922a_11ea_ac71_0242ac1c0002row3_col3\" class=\"data row3 col3\" >1.000000</td>\n",
              "                        <td id=\"T_e89117b6_922a_11ea_ac71_0242ac1c0002row3_col4\" class=\"data row3 col4\" >0.224470</td>\n",
              "                        <td id=\"T_e89117b6_922a_11ea_ac71_0242ac1c0002row3_col5\" class=\"data row3 col5\" >0.402364</td>\n",
              "                        <td id=\"T_e89117b6_922a_11ea_ac71_0242ac1c0002row3_col6\" class=\"data row3 col6\" >-0.019272</td>\n",
              "            </tr>\n",
              "            <tr>\n",
              "                        <th id=\"T_e89117b6_922a_11ea_ac71_0242ac1c0002level0_row4\" class=\"row_heading level0 row4\" >etest_p</th>\n",
              "                        <td id=\"T_e89117b6_922a_11ea_ac71_0242ac1c0002row4_col0\" class=\"data row4 col0\" >0.063636</td>\n",
              "                        <td id=\"T_e89117b6_922a_11ea_ac71_0242ac1c0002row4_col1\" class=\"data row4 col1\" >0.261993</td>\n",
              "                        <td id=\"T_e89117b6_922a_11ea_ac71_0242ac1c0002row4_col2\" class=\"data row4 col2\" >0.245113</td>\n",
              "                        <td id=\"T_e89117b6_922a_11ea_ac71_0242ac1c0002row4_col3\" class=\"data row4 col3\" >0.224470</td>\n",
              "                        <td id=\"T_e89117b6_922a_11ea_ac71_0242ac1c0002row4_col4\" class=\"data row4 col4\" >1.000000</td>\n",
              "                        <td id=\"T_e89117b6_922a_11ea_ac71_0242ac1c0002row4_col5\" class=\"data row4 col5\" >0.218055</td>\n",
              "                        <td id=\"T_e89117b6_922a_11ea_ac71_0242ac1c0002row4_col6\" class=\"data row4 col6\" >0.178307</td>\n",
              "            </tr>\n",
              "            <tr>\n",
              "                        <th id=\"T_e89117b6_922a_11ea_ac71_0242ac1c0002level0_row5\" class=\"row_heading level0 row5\" >mba_p</th>\n",
              "                        <td id=\"T_e89117b6_922a_11ea_ac71_0242ac1c0002row5_col0\" class=\"data row5 col0\" >0.022327</td>\n",
              "                        <td id=\"T_e89117b6_922a_11ea_ac71_0242ac1c0002row5_col1\" class=\"data row5 col1\" >0.388478</td>\n",
              "                        <td id=\"T_e89117b6_922a_11ea_ac71_0242ac1c0002row5_col2\" class=\"data row5 col2\" >0.354823</td>\n",
              "                        <td id=\"T_e89117b6_922a_11ea_ac71_0242ac1c0002row5_col3\" class=\"data row5 col3\" >0.402364</td>\n",
              "                        <td id=\"T_e89117b6_922a_11ea_ac71_0242ac1c0002row5_col4\" class=\"data row5 col4\" >0.218055</td>\n",
              "                        <td id=\"T_e89117b6_922a_11ea_ac71_0242ac1c0002row5_col5\" class=\"data row5 col5\" >1.000000</td>\n",
              "                        <td id=\"T_e89117b6_922a_11ea_ac71_0242ac1c0002row5_col6\" class=\"data row5 col6\" >0.175013</td>\n",
              "            </tr>\n",
              "            <tr>\n",
              "                        <th id=\"T_e89117b6_922a_11ea_ac71_0242ac1c0002level0_row6\" class=\"row_heading level0 row6\" >salary</th>\n",
              "                        <td id=\"T_e89117b6_922a_11ea_ac71_0242ac1c0002row6_col0\" class=\"data row6 col0\" >0.063764</td>\n",
              "                        <td id=\"T_e89117b6_922a_11ea_ac71_0242ac1c0002row6_col1\" class=\"data row6 col1\" >0.035330</td>\n",
              "                        <td id=\"T_e89117b6_922a_11ea_ac71_0242ac1c0002row6_col2\" class=\"data row6 col2\" >0.076819</td>\n",
              "                        <td id=\"T_e89117b6_922a_11ea_ac71_0242ac1c0002row6_col3\" class=\"data row6 col3\" >-0.019272</td>\n",
              "                        <td id=\"T_e89117b6_922a_11ea_ac71_0242ac1c0002row6_col4\" class=\"data row6 col4\" >0.178307</td>\n",
              "                        <td id=\"T_e89117b6_922a_11ea_ac71_0242ac1c0002row6_col5\" class=\"data row6 col5\" >0.175013</td>\n",
              "                        <td id=\"T_e89117b6_922a_11ea_ac71_0242ac1c0002row6_col6\" class=\"data row6 col6\" >1.000000</td>\n",
              "            </tr>\n",
              "    </tbody></table>"
            ],
            "text/plain": [
              "<pandas.io.formats.style.Styler at 0x7f12f39c3da0>"
            ]
          },
          "metadata": {
            "tags": []
          },
          "execution_count": 4
        }
      ]
    },
    {
      "cell_type": "code",
      "metadata": {
        "id": "L5eb4TBPj3Iy",
        "colab_type": "code",
        "outputId": "04f940a3-cff9-4027-a779-b5996c3e1c1f",
        "colab": {
          "base_uri": "https://localhost:8080/",
          "height": 442
        }
      },
      "source": [
        "plt.figure(figsize =(12,7))\n",
        "sns.boxplot(\"salary\", \"gender\", data=df)\n",
        "plt.show()"
      ],
      "execution_count": 5,
      "outputs": [
        {
          "output_type": "display_data",
          "data": {
            "image/png": "[encoded data removed]",
            "text/plain": [
              "<Figure size 864x504 with 1 Axes>"
            ]
          },
          "metadata": {
            "tags": [],
            "needs_background": "light"
          }
        }
      ]
    },
    {
      "cell_type": "code",
      "metadata": {
        "id": "gXnWDDxxkR1k",
        "colab_type": "code",
        "outputId": "79bc38ae-d1ae-44e5-e0b1-feebdc222028",
        "colab": {
          "base_uri": "https://localhost:8080/",
          "height": 296
        }
      },
      "source": [
        " sns.countplot(x=\"specialisation\",\n",
        " data=df,\n",
        " palette=\"Greens_d\")"
      ],
      "execution_count": 6,
      "outputs": [
        {
          "output_type": "execute_result",
          "data": {
            "text/plain": [
              "<matplotlib.axes._subplots.AxesSubplot at 0x7f12e27081d0>"
            ]
          },
          "metadata": {
            "tags": []
          },
          "execution_count": 6
        },
        {
          "output_type": "display_data",
          "data": {
            "image/png": "[encoded data removed]",
            "text/plain": [
              "<Figure size 432x288 with 1 Axes>"
            ]
          },
          "metadata": {
            "tags": [],
            "needs_background": "light"
          }
        }
      ]
    },
    {
      "cell_type": "code",
      "metadata": {
        "id": "o9A0I3U2lNUe",
        "colab_type": "code",
        "outputId": "1099e1ba-b503-4600-952b-1cf1aa04b4bc",
        "colab": {
          "base_uri": "https://localhost:8080/",
          "height": 279
        }
      },
      "source": [
        "sns.lineplot(\"ssc_p\", \"salary\", hue=\"ssc_b\", data=df)\n",
        "plt.show()"
      ],
      "execution_count": 7,
      "outputs": [
        {
          "output_type": "display_data",
          "data": {
            "image/png": "[encoded data removed]",
            "text/plain": [
              "<Figure size 432x288 with 1 Axes>"
            ]
          },
          "metadata": {
            "tags": [],
            "needs_background": "light"
          }
        }
      ]
    },
    {
      "cell_type": "code",
      "metadata": {
        "id": "IOLsC4j4l9xh",
        "colab_type": "code",
        "outputId": "ebb56b27-1666-47d8-f6cb-ccae04a9cd08",
        "colab": {
          "base_uri": "https://localhost:8080/",
          "height": 297
        }
      },
      "source": [
        " sns.set_palette(\"husl\",3) \n",
        " sns.barplot(x=\"hsc_s\", \n",
        " y=\"salary\", \n",
        " hue=\"hsc_b\", \n",
        " data=df)"
      ],
      "execution_count": 8,
      "outputs": [
        {
          "output_type": "execute_result",
          "data": {
            "text/plain": [
              "<matplotlib.axes._subplots.AxesSubplot at 0x7f12e262db38>"
            ]
          },
          "metadata": {
            "tags": []
          },
          "execution_count": 8
        },
        {
          "output_type": "display_data",
          "data": {
            "image/png": "[encoded data removed]",
            "text/plain": [
              "<Figure size 432x288 with 1 Axes>"
            ]
          },
          "metadata": {
            "tags": [],
            "needs_background": "light"
          }
        }
      ]
    },
    {
      "cell_type": "markdown",
      "metadata": {
        "id": "4fbqZVLRnpYo",
        "colab_type": "text"
      },
      "source": [
        "##Data Pre-processing"
      ]
    },
    {
      "cell_type": "code",
      "metadata": {
        "id": "j87nVO03nOqJ",
        "colab_type": "code",
        "colab": {}
      },
      "source": [
        "df.drop(['ssc_b','hsc_b'], axis=1, inplace=True)"
      ],
      "execution_count": 0,
      "outputs": []
    },
    {
      "cell_type": "markdown",
      "metadata": {
        "id": "a-uhgwonn959",
        "colab_type": "text"
      },
      "source": [
        "##Feature Encoding"
      ]
    },
    {
      "cell_type": "code",
      "metadata": {
        "id": "JjbhnCuFn_q3",
        "colab_type": "code",
        "outputId": "3069d8ee-11d5-441d-b0d7-9d9abc9abd1d",
        "colab": {
          "base_uri": "https://localhost:8080/",
          "height": 255
        }
      },
      "source": [
        "df.dtypes"
      ],
      "execution_count": 10,
      "outputs": [
        {
          "output_type": "execute_result",
          "data": {
            "text/plain": [
              "sl_no               int64\n",
              "gender             object\n",
              "ssc_p             float64\n",
              "hsc_p             float64\n",
              "hsc_s              object\n",
              "degree_p          float64\n",
              "degree_t           object\n",
              "workex             object\n",
              "etest_p           float64\n",
              "specialisation     object\n",
              "mba_p             float64\n",
              "status             object\n",
              "salary            float64\n",
              "dtype: object"
            ]
          },
          "metadata": {
            "tags": []
          },
          "execution_count": 10
        }
      ]
    },
    {
      "cell_type": "code",
      "metadata": {
        "id": "NpywBkn3oEjX",
        "colab_type": "code",
        "colab": {}
      },
      "source": [
        "df[\"gender\"] = df.gender.map({\"M\":0,\"F\":1})\n",
        "df[\"hsc_s\"] = df.hsc_s.map({\"Commerce\":0,\"Science\":1,\"Arts\":2})\n",
        "df[\"degree_t\"] = df.degree_t.map({\"Comm&Mgmt\":0,\"Sci&Tech\":1, \"Others\":2})\n",
        "df[\"workex\"] = df.workex.map({\"No\":0, \"Yes\":1})\n",
        "df[\"status\"] = df.status.map({\"Not Placed\":0, \"Placed\":1})\n",
        "df[\"specialisation\"] = df.specialisation.map({\"Mkt&HR\":0, \"Mkt&Fin\":1})"
      ],
      "execution_count": 0,
      "outputs": []
    },
    {
      "cell_type": "code",
      "metadata": {
        "id": "VCNMSg78oRvm",
        "colab_type": "code",
        "colab": {}
      },
      "source": [
        "X = df[['gender', 'ssc_p', 'hsc_p', 'hsc_s', 'degree_p', 'degree_t', 'workex','etest_p', 'specialisation', 'mba_p',]]\n",
        "y = df['status']"
      ],
      "execution_count": 0,
      "outputs": []
    },
    {
      "cell_type": "code",
      "metadata": {
        "id": "68dNxiPTov3X",
        "colab_type": "code",
        "colab": {}
      },
      "source": [
        "X_train, X_test, y_train, y_test = train_test_split(X, y, test_size=0.3)"
      ],
      "execution_count": 0,
      "outputs": []
    },
    {
      "cell_type": "markdown",
      "metadata": {
        "id": "YXxoqD-JpuhY",
        "colab_type": "text"
      },
      "source": [
        "##Decision Tree"
      ]
    },
    {
      "cell_type": "code",
      "metadata": {
        "id": "b-ZpMSggoxCv",
        "colab_type": "code",
        "colab": {}
      },
      "source": [
        "dtree = DecisionTreeClassifier(criterion='entropy')\n",
        "dtree.fit(X_train, y_train)\n",
        "y_pred = dtree.predict(X_test)"
      ],
      "execution_count": 0,
      "outputs": []
    },
    {
      "cell_type": "code",
      "metadata": {
        "id": "Ff6VTBa5pcrl",
        "colab_type": "code",
        "outputId": "c806d9bc-8fd1-4447-fd4a-c57c5136455a",
        "colab": {
          "base_uri": "https://localhost:8080/",
          "height": 34
        }
      },
      "source": [
        "accuracy_score(y_test, y_pred)"
      ],
      "execution_count": 15,
      "outputs": [
        {
          "output_type": "execute_result",
          "data": {
            "text/plain": [
              "0.7846153846153846"
            ]
          },
          "metadata": {
            "tags": []
          },
          "execution_count": 15
        }
      ]
    },
    {
      "cell_type": "code",
      "metadata": {
        "id": "P4q1z1SnpnIB",
        "colab_type": "code",
        "outputId": "d57cdd6f-c63b-4173-e1ce-1420d31fa229",
        "colab": {
          "base_uri": "https://localhost:8080/",
          "height": 170
        }
      },
      "source": [
        "print(classification_report(y_test, y_pred))"
      ],
      "execution_count": 16,
      "outputs": [
        {
          "output_type": "stream",
          "text": [
            "              precision    recall  f1-score   support\n",
            "\n",
            "           0       0.71      0.50      0.59        20\n",
            "           1       0.80      0.91      0.85        45\n",
            "\n",
            "    accuracy                           0.78        65\n",
            "   macro avg       0.76      0.71      0.72        65\n",
            "weighted avg       0.78      0.78      0.77        65\n",
            "\n"
          ],
          "name": "stdout"
        }
      ]
    },
    {
      "cell_type": "markdown",
      "metadata": {
        "id": "o1ubiTe46tMv",
        "colab_type": "text"
      },
      "source": [
        "##Random Forest"
      ]
    },
    {
      "cell_type": "code",
      "metadata": {
        "id": "OH7jwzKopqWI",
        "colab_type": "code",
        "colab": {}
      },
      "source": [
        "random_forest = RandomForestClassifier(n_estimators=100)\n",
        "random_forest.fit(X_train, y_train)\n",
        "y_pred = random_forest.predict(X_test)"
      ],
      "execution_count": 0,
      "outputs": []
    },
    {
      "cell_type": "code",
      "metadata": {
        "id": "dFf1KnEGp5e3",
        "colab_type": "code",
        "outputId": "73901326-5f3c-4891-cecb-4d7f0d4a8632",
        "colab": {
          "base_uri": "https://localhost:8080/",
          "height": 34
        }
      },
      "source": [
        "accuracy_score(y_test, y_pred)"
      ],
      "execution_count": 18,
      "outputs": [
        {
          "output_type": "execute_result",
          "data": {
            "text/plain": [
              "0.8461538461538461"
            ]
          },
          "metadata": {
            "tags": []
          },
          "execution_count": 18
        }
      ]
    },
    {
      "cell_type": "code",
      "metadata": {
        "id": "CuEmuvZtp8lo",
        "colab_type": "code",
        "outputId": "c630bdab-42a9-4779-d743-cb6ee2969206",
        "colab": {
          "base_uri": "https://localhost:8080/",
          "height": 170
        }
      },
      "source": [
        "print(classification_report(y_test, y_pred))"
      ],
      "execution_count": 19,
      "outputs": [
        {
          "output_type": "stream",
          "text": [
            "              precision    recall  f1-score   support\n",
            "\n",
            "           0       0.86      0.60      0.71        20\n",
            "           1       0.84      0.96      0.90        45\n",
            "\n",
            "    accuracy                           0.85        65\n",
            "   macro avg       0.85      0.78      0.80        65\n",
            "weighted avg       0.85      0.85      0.84        65\n",
            "\n"
          ],
          "name": "stdout"
        }
      ]
    },
    {
      "cell_type": "code",
      "metadata": {
        "id": "nfEB2M5j6L4d",
        "colab_type": "code",
        "colab": {}
      },
      "source": [
        "p = make_pipeline(StandardScaler(),\n",
        "RandomForestClassifier())"
      ],
      "execution_count": 0,
      "outputs": []
    },
    {
      "cell_type": "code",
      "metadata": {
        "id": "6gh53H6c6YxV",
        "colab_type": "code",
        "colab": {}
      },
      "source": [
        "cv = RepeatedStratifiedKFold(n_splits=3,\n",
        "n_repeats=5,\n",
        "random_state=42)"
      ],
      "execution_count": 0,
      "outputs": []
    },
    {
      "cell_type": "code",
      "metadata": {
        "id": "4oBYTlYt5bvP",
        "colab_type": "code",
        "colab": {
          "base_uri": "https://localhost:8080/",
          "height": 34
        },
        "outputId": "f07005d8-a275-4e13-d8dc-01c5c5550c29"
      },
      "source": [
        "param_grid = dict(randomforestclassifier__n_estimators=range(5, 50, 5))\n",
        "param_grid"
      ],
      "execution_count": 27,
      "outputs": [
        {
          "output_type": "execute_result",
          "data": {
            "text/plain": [
              "{'randomforestclassifier__n_estimators': range(5, 50, 5)}"
            ]
          },
          "metadata": {
            "tags": []
          },
          "execution_count": 27
        }
      ]
    },
    {
      "cell_type": "code",
      "metadata": {
        "id": "I9sRV_Be5dH5",
        "colab_type": "code",
        "colab": {
          "base_uri": "https://localhost:8080/",
          "height": 459
        },
        "outputId": "73c29c19-9014-4874-aa21-6a77131d9940"
      },
      "source": [
        "scoring = {'Accuracy': make_scorer(accuracy_score)}\n",
        "grid_search = GridSearchCV(p, param_grid=param_grid, cv=cv, scoring=scoring,refit='Accuracy',return_train_score=True)\n",
        "grid_search.fit(X, y)"
      ],
      "execution_count": 28,
      "outputs": [
        {
          "output_type": "execute_result",
          "data": {
            "text/plain": [
              "GridSearchCV(cv=RepeatedStratifiedKFold(n_repeats=5, n_splits=3, random_state=42),\n",
              "             error_score=nan,\n",
              "             estimator=Pipeline(memory=None,\n",
              "                                steps=[('standardscaler',\n",
              "                                        StandardScaler(copy=True,\n",
              "                                                       with_mean=True,\n",
              "                                                       with_std=True)),\n",
              "                                       ('randomforestclassifier',\n",
              "                                        RandomForestClassifier(bootstrap=True,\n",
              "                                                               ccp_alpha=0.0,\n",
              "                                                               class_weight=None,\n",
              "                                                               criterion='gini',\n",
              "                                                               max_depth=None,\n",
              "                                                               max_features='...\n",
              "                                                               min_weight_fraction_leaf=0.0,\n",
              "                                                               n_estimators=100,\n",
              "                                                               n_jobs=None,\n",
              "                                                               oob_score=False,\n",
              "                                                               random_state=None,\n",
              "                                                               verbose=0,\n",
              "                                                               warm_start=False))],\n",
              "                                verbose=False),\n",
              "             iid='deprecated', n_jobs=None,\n",
              "             param_grid={'randomforestclassifier__n_estimators': range(5, 50, 5)},\n",
              "             pre_dispatch='2*n_jobs', refit='Accuracy', return_train_score=True,\n",
              "             scoring={'Accuracy': make_scorer(accuracy_score)}, verbose=0)"
            ]
          },
          "metadata": {
            "tags": []
          },
          "execution_count": 28
        }
      ]
    },
    {
      "cell_type": "code",
      "metadata": {
        "id": "LJ8Pfq596iA4",
        "colab_type": "code",
        "colab": {}
      },
      "source": [
        "results = grid_search.cv_results_"
      ],
      "execution_count": 0,
      "outputs": []
    },
    {
      "cell_type": "code",
      "metadata": {
        "id": "jVi99wtC6mon",
        "colab_type": "code",
        "colab": {
          "base_uri": "https://localhost:8080/",
          "height": 298
        },
        "outputId": "eed08469-7e05-4dde-c062-1ce31865c9f7"
      },
      "source": [
        "plt.title(\"GridSearchCV evaluating using multiple scorers simultaneously\",\n",
        "fontsize=16)\n",
        "plt.xlabel(\"n_estimators\")\n",
        "plt.ylabel(\"Score\")\n",
        "ax = plt.gca()\n",
        "X_axis = np.array(results['param_randomforestclassifier__n_estimators'].data,dtype=float)\n",
        "for scorer, color in zip(sorted(scoring), ['g', 'k']):\n",
        "    for sample, style in (('train', '--'), ('test', '-')):\n",
        "         sample_score_mean = results['mean_%s_%s' % (sample, scorer)]\n",
        "         sample_score_std = results['std_%s_%s' % (sample, scorer)]\n",
        "         ax.fill_between(X_axis, sample_score_mean - sample_score_std,\n",
        "                 sample_score_mean + sample_score_std,\n",
        "                 alpha=0.1 if sample == 'test' else 0, color=color)\n",
        "         ax.plot(X_axis, sample_score_mean, style, color=color,\n",
        "                alpha=1 if sample == 'test' else 0.7,\n",
        "                label=\"%s (%s)\" % (scorer, sample))\n",
        "    best_index = np.nonzero(results['rank_test_%s' % scorer] == 1)[0][0]\n",
        "    best_score = results['mean_test_%s' % scorer][best_index]\n",
        "    # Plot a dotted vertical line at the best score for that scorer marked by x\n",
        "    ax.plot([X_axis[best_index], ] * 2, [0, best_score],\n",
        "           linestyle='-.', color=color, marker='x', markeredgewidth=3, ms=8)\n",
        "    # Annotate the best score for that scorer\n",
        "    ax.annotate(\"%0.2f\" % best_score,\n",
        "          (X_axis[best_index], best_score + 0.005))\n",
        "plt.legend(loc=\"best\")\n",
        "plt.grid(False)\n",
        "plt.show()"
      ],
      "execution_count": 30,
      "outputs": [
        {
          "output_type": "display_data",
          "data": {
            "image/png": "[encoded data removed]",
            "text/plain": [
              "<Figure size 432x288 with 1 Axes>"
            ]
          },
          "metadata": {
            "tags": [],
            "needs_background": "light"
          }
        }
      ]
    },
    {
      "cell_type": "markdown",
      "metadata": {
        "id": "UnCsVD0561JX",
        "colab_type": "text"
      },
      "source": [
        "##One Hot Encoding"
      ]
    },
    {
      "cell_type": "code",
      "metadata": {
        "id": "uhUxJvrv6yWh",
        "colab_type": "code",
        "colab": {
          "base_uri": "https://localhost:8080/",
          "height": 527
        },
        "outputId": "74c6f527-1df6-4444-eed0-f8109c782d5d"
      },
      "source": [
        "X = df[['gender', 'ssc_p', 'hsc_p', 'hsc_s', 'degree_p', 'degree_t', 'workex','etest_p', 'specialisation', 'mba_p',]]\n",
        "y = df['status']\n",
        "#Reverse Mapping and making Categorical\n",
        "X[\"gender\"] = pd.Categorical(X.gender.map({0:\"M\",1:\"F\"}))\n",
        "X[\"hsc_s\"] = pd.Categorical(X.hsc_s.map({0:\"Commerce\",1:\"Science\",2:\"Arts\"}))\n",
        "X[\"degree_t\"] = pd.Categorical(X.degree_t.map({0:\"Comm&Mgmt\",1:\"Sci&Tech\",2:\"Others\"}))\n",
        "X[\"workex\"] = pd.Categorical(X.workex.map({0:\"No\",1:\"Yes\"}))\n",
        "X[\"specialisation\"] = pd.Categorical(X.specialisation.map({0:\"Mkt&HR\",1:\"Mkt&Fin\"}))"
      ],
      "execution_count": 32,
      "outputs": [
        {
          "output_type": "stream",
          "text": [
            "/usr/local/lib/python3.6/dist-packages/ipykernel_launcher.py:4: SettingWithCopyWarning: \n",
            "A value is trying to be set on a copy of a slice from a DataFrame.\n",
            "Try using .loc[row_indexer,col_indexer] = value instead\n",
            "\n",
            "See the caveats in the documentation: https://pandas.pydata.org/pandas-docs/stable/user_guide/indexing.html#returning-a-view-versus-a-copy\n",
            "  after removing the cwd from sys.path.\n",
            "/usr/local/lib/python3.6/dist-packages/ipykernel_launcher.py:5: SettingWithCopyWarning: \n",
            "A value is trying to be set on a copy of a slice from a DataFrame.\n",
            "Try using .loc[row_indexer,col_indexer] = value instead\n",
            "\n",
            "See the caveats in the documentation: https://pandas.pydata.org/pandas-docs/stable/user_guide/indexing.html#returning-a-view-versus-a-copy\n",
            "  \"\"\"\n",
            "/usr/local/lib/python3.6/dist-packages/ipykernel_launcher.py:6: SettingWithCopyWarning: \n",
            "A value is trying to be set on a copy of a slice from a DataFrame.\n",
            "Try using .loc[row_indexer,col_indexer] = value instead\n",
            "\n",
            "See the caveats in the documentation: https://pandas.pydata.org/pandas-docs/stable/user_guide/indexing.html#returning-a-view-versus-a-copy\n",
            "  \n",
            "/usr/local/lib/python3.6/dist-packages/ipykernel_launcher.py:7: SettingWithCopyWarning: \n",
            "A value is trying to be set on a copy of a slice from a DataFrame.\n",
            "Try using .loc[row_indexer,col_indexer] = value instead\n",
            "\n",
            "See the caveats in the documentation: https://pandas.pydata.org/pandas-docs/stable/user_guide/indexing.html#returning-a-view-versus-a-copy\n",
            "  import sys\n",
            "/usr/local/lib/python3.6/dist-packages/ipykernel_launcher.py:8: SettingWithCopyWarning: \n",
            "A value is trying to be set on a copy of a slice from a DataFrame.\n",
            "Try using .loc[row_indexer,col_indexer] = value instead\n",
            "\n",
            "See the caveats in the documentation: https://pandas.pydata.org/pandas-docs/stable/user_guide/indexing.html#returning-a-view-versus-a-copy\n",
            "  \n"
          ],
          "name": "stderr"
        }
      ]
    },
    {
      "cell_type": "code",
      "metadata": {
        "id": "XLcrKFw07BZn",
        "colab_type": "code",
        "colab": {}
      },
      "source": [
        "X = pd.get_dummies(X)\n",
        "colmunn_names = X.columns.to_list()"
      ],
      "execution_count": 0,
      "outputs": []
    },
    {
      "cell_type": "code",
      "metadata": {
        "id": "CgTzfVWL7Ent",
        "colab_type": "code",
        "colab": {}
      },
      "source": [
        "scaler = MinMaxScaler()\n",
        "X_scaled = scaler.fit_transform(X)"
      ],
      "execution_count": 0,
      "outputs": []
    },
    {
      "cell_type": "code",
      "metadata": {
        "id": "C-6gkUg37Ssi",
        "colab_type": "code",
        "colab": {}
      },
      "source": [
        "X_train, X_test, y_train, y_test = train_test_split(X_scaled, y, test_size=0.3)"
      ],
      "execution_count": 0,
      "outputs": []
    },
    {
      "cell_type": "markdown",
      "metadata": {
        "id": "pnLjOibg7_VO",
        "colab_type": "text"
      },
      "source": [
        "##Logistic Regression"
      ]
    },
    {
      "cell_type": "code",
      "metadata": {
        "id": "Xk7Ll39f7bJ5",
        "colab_type": "code",
        "colab": {}
      },
      "source": [
        "logistic_reg = LogisticRegression()\n",
        "logistic_reg.fit(X_train, y_train)\n",
        "y_pred = logistic_reg.predict(X_test)"
      ],
      "execution_count": 0,
      "outputs": []
    },
    {
      "cell_type": "code",
      "metadata": {
        "id": "KiV9I_2E7cZI",
        "colab_type": "code",
        "colab": {
          "base_uri": "https://localhost:8080/",
          "height": 34
        },
        "outputId": "ef1843bf-ff14-4dd6-9f03-867addf3f7ae"
      },
      "source": [
        "accuracy_score(y_test, y_pred)"
      ],
      "execution_count": 39,
      "outputs": [
        {
          "output_type": "execute_result",
          "data": {
            "text/plain": [
              "0.8307692307692308"
            ]
          },
          "metadata": {
            "tags": []
          },
          "execution_count": 39
        }
      ]
    },
    {
      "cell_type": "code",
      "metadata": {
        "id": "-biY9K3P7g6n",
        "colab_type": "code",
        "colab": {
          "base_uri": "https://localhost:8080/",
          "height": 170
        },
        "outputId": "3ca538f9-b8ec-46cf-fd60-ccad48916f4a"
      },
      "source": [
        "print(classification_report(y_test, y_pred))"
      ],
      "execution_count": 40,
      "outputs": [
        {
          "output_type": "stream",
          "text": [
            "              precision    recall  f1-score   support\n",
            "\n",
            "           0       0.81      0.62      0.70        21\n",
            "           1       0.84      0.93      0.88        44\n",
            "\n",
            "    accuracy                           0.83        65\n",
            "   macro avg       0.82      0.78      0.79        65\n",
            "weighted avg       0.83      0.83      0.82        65\n",
            "\n"
          ],
          "name": "stdout"
        }
      ]
    },
    {
      "cell_type": "markdown",
      "metadata": {
        "id": "OKby1N9WlFQr",
        "colab_type": "text"
      },
      "source": [
        "## Improve the Model\n",
        "The GLM solver uses a special variant of Newton’s method known as iteratively reweighted least squares (IRLS), which will be further desribed in the lecture on multivarite and constrained optimizaiton."
      ]
    },
    {
      "cell_type": "code",
      "metadata": {
        "id": "jb_QpQj5kE5o",
        "colab_type": "code",
        "colab": {
          "base_uri": "https://localhost:8080/",
          "height": 479
        },
        "outputId": "928cbbcc-fbaf-4b6b-89a4-612a3fb05e03"
      },
      "source": [
        "model = sm.GLM.from_formula('status~gender+ssc_p+hsc_p+hsc_s+degree_p+degree_t+workex+etest_p+specialisation+mba_p',\n",
        "                            data=df, family=sm.families.Binomial())\n",
        "fit = model.fit()\n",
        "fit.summary()"
      ],
      "execution_count": 53,
      "outputs": [
        {
          "output_type": "execute_result",
          "data": {
            "text/html": [
              "<table class=\"simpletable\">\n",
              "<caption>Generalized Linear Model Regression Results</caption>\n",
              "<tr>\n",
              "  <th>Dep. Variable:</th>        <td>status</td>      <th>  No. Observations:  </th>  <td>   215</td> \n",
              "</tr>\n",
              "<tr>\n",
              "  <th>Model:</th>                  <td>GLM</td>       <th>  Df Residuals:      </th>  <td>   204</td> \n",
              "</tr>\n",
              "<tr>\n",
              "  <th>Model Family:</th>        <td>Binomial</td>     <th>  Df Model:          </th>  <td>    10</td> \n",
              "</tr>\n",
              "<tr>\n",
              "  <th>Link Function:</th>         <td>logit</td>      <th>  Scale:             </th> <td>  1.0000</td>\n",
              "</tr>\n",
              "<tr>\n",
              "  <th>Method:</th>                <td>IRLS</td>       <th>  Log-Likelihood:    </th> <td> -51.244</td>\n",
              "</tr>\n",
              "<tr>\n",
              "  <th>Date:</th>            <td>Sat, 09 May 2020</td> <th>  Deviance:          </th> <td>  102.49</td>\n",
              "</tr>\n",
              "<tr>\n",
              "  <th>Time:</th>                <td>22:34:46</td>     <th>  Pearson chi2:      </th>  <td>  117.</td> \n",
              "</tr>\n",
              "<tr>\n",
              "  <th>No. Iterations:</th>          <td>7</td>        <th>                     </th>     <td> </td>   \n",
              "</tr>\n",
              "<tr>\n",
              "  <th>Covariance Type:</th>     <td>nonrobust</td>    <th>                     </th>     <td> </td>   \n",
              "</tr>\n",
              "</table>\n",
              "<table class=\"simpletable\">\n",
              "<tr>\n",
              "         <td></td>           <th>coef</th>     <th>std err</th>      <th>z</th>      <th>P>|z|</th>  <th>[0.025</th>    <th>0.975]</th>  \n",
              "</tr>\n",
              "<tr>\n",
              "  <th>Intercept</th>      <td>  -16.8486</td> <td>    4.588</td> <td>   -3.673</td> <td> 0.000</td> <td>  -25.840</td> <td>   -7.857</td>\n",
              "</tr>\n",
              "<tr>\n",
              "  <th>gender</th>         <td>   -1.0161</td> <td>    0.607</td> <td>   -1.673</td> <td> 0.094</td> <td>   -2.206</td> <td>    0.174</td>\n",
              "</tr>\n",
              "<tr>\n",
              "  <th>ssc_p</th>          <td>    0.2179</td> <td>    0.041</td> <td>    5.326</td> <td> 0.000</td> <td>    0.138</td> <td>    0.298</td>\n",
              "</tr>\n",
              "<tr>\n",
              "  <th>hsc_p</th>          <td>    0.1102</td> <td>    0.036</td> <td>    3.071</td> <td> 0.002</td> <td>    0.040</td> <td>    0.181</td>\n",
              "</tr>\n",
              "<tr>\n",
              "  <th>hsc_s</th>          <td>    0.7225</td> <td>    0.536</td> <td>    1.349</td> <td> 0.177</td> <td>   -0.327</td> <td>    1.772</td>\n",
              "</tr>\n",
              "<tr>\n",
              "  <th>degree_p</th>       <td>    0.1588</td> <td>    0.051</td> <td>    3.120</td> <td> 0.002</td> <td>    0.059</td> <td>    0.259</td>\n",
              "</tr>\n",
              "<tr>\n",
              "  <th>degree_t</th>       <td>   -1.2140</td> <td>    0.561</td> <td>   -2.164</td> <td> 0.030</td> <td>   -2.313</td> <td>   -0.115</td>\n",
              "</tr>\n",
              "<tr>\n",
              "  <th>workex</th>         <td>    2.2042</td> <td>    0.702</td> <td>    3.138</td> <td> 0.002</td> <td>    0.828</td> <td>    3.581</td>\n",
              "</tr>\n",
              "<tr>\n",
              "  <th>etest_p</th>        <td>   -0.0111</td> <td>    0.021</td> <td>   -0.526</td> <td> 0.599</td> <td>   -0.052</td> <td>    0.030</td>\n",
              "</tr>\n",
              "<tr>\n",
              "  <th>specialisation</th> <td>    0.3723</td> <td>    0.532</td> <td>    0.700</td> <td> 0.484</td> <td>   -0.670</td> <td>    1.415</td>\n",
              "</tr>\n",
              "<tr>\n",
              "  <th>mba_p</th>          <td>   -0.2148</td> <td>    0.056</td> <td>   -3.827</td> <td> 0.000</td> <td>   -0.325</td> <td>   -0.105</td>\n",
              "</tr>\n",
              "</table>"
            ],
            "text/plain": [
              "<class 'statsmodels.iolib.summary.Summary'>\n",
              "\"\"\"\n",
              "                 Generalized Linear Model Regression Results                  \n",
              "==============================================================================\n",
              "Dep. Variable:                 status   No. Observations:                  215\n",
              "Model:                            GLM   Df Residuals:                      204\n",
              "Model Family:                Binomial   Df Model:                           10\n",
              "Link Function:                  logit   Scale:                          1.0000\n",
              "Method:                          IRLS   Log-Likelihood:                -51.244\n",
              "Date:                Sat, 09 May 2020   Deviance:                       102.49\n",
              "Time:                        22:34:46   Pearson chi2:                     117.\n",
              "No. Iterations:                     7                                         \n",
              "Covariance Type:            nonrobust                                         \n",
              "==================================================================================\n",
              "                     coef    std err          z      P>|z|      [0.025      0.975]\n",
              "----------------------------------------------------------------------------------\n",
              "Intercept        -16.8486      4.588     -3.673      0.000     -25.840      -7.857\n",
              "gender            -1.0161      0.607     -1.673      0.094      -2.206       0.174\n",
              "ssc_p              0.2179      0.041      5.326      0.000       0.138       0.298\n",
              "hsc_p              0.1102      0.036      3.071      0.002       0.040       0.181\n",
              "hsc_s              0.7225      0.536      1.349      0.177      -0.327       1.772\n",
              "degree_p           0.1588      0.051      3.120      0.002       0.059       0.259\n",
              "degree_t          -1.2140      0.561     -2.164      0.030      -2.313      -0.115\n",
              "workex             2.2042      0.702      3.138      0.002       0.828       3.581\n",
              "etest_p           -0.0111      0.021     -0.526      0.599      -0.052       0.030\n",
              "specialisation     0.3723      0.532      0.700      0.484      -0.670       1.415\n",
              "mba_p             -0.2148      0.056     -3.827      0.000      -0.325      -0.105\n",
              "==================================================================================\n",
              "\"\"\""
            ]
          },
          "metadata": {
            "tags": []
          },
          "execution_count": 53
        }
      ]
    },
    {
      "cell_type": "markdown",
      "metadata": {
        "id": "V3dfef7C9cdb",
        "colab_type": "text"
      },
      "source": [
        "##KNN"
      ]
    },
    {
      "cell_type": "code",
      "metadata": {
        "id": "XboqJmIx8Fx_",
        "colab_type": "code",
        "colab": {
          "base_uri": "https://localhost:8080/",
          "height": 68
        },
        "outputId": "fd99d2a8-d45d-409d-dfc8-955f90620267"
      },
      "source": [
        "classifier = KNeighborsClassifier(n_neighbors = 5, metric = 'minkowski', p = 2)\n",
        "classifier.fit(X_train, y_train)"
      ],
      "execution_count": 42,
      "outputs": [
        {
          "output_type": "execute_result",
          "data": {
            "text/plain": [
              "KNeighborsClassifier(algorithm='auto', leaf_size=30, metric='minkowski',\n",
              "                     metric_params=None, n_jobs=None, n_neighbors=5, p=2,\n",
              "                     weights='uniform')"
            ]
          },
          "metadata": {
            "tags": []
          },
          "execution_count": 42
        }
      ]
    },
    {
      "cell_type": "code",
      "metadata": {
        "id": "UlycVhWn84el",
        "colab_type": "code",
        "colab": {}
      },
      "source": [
        "y_pred = classifier.predict(X_test)"
      ],
      "execution_count": 0,
      "outputs": []
    },
    {
      "cell_type": "code",
      "metadata": {
        "id": "WYz780Qh87S8",
        "colab_type": "code",
        "colab": {
          "base_uri": "https://localhost:8080/",
          "height": 51
        },
        "outputId": "04419445-fc34-428d-e38f-fad7250ca16b"
      },
      "source": [
        "cm = confusion_matrix(y_test, y_pred)\n",
        "print(cm)"
      ],
      "execution_count": 45,
      "outputs": [
        {
          "output_type": "stream",
          "text": [
            "[[11 10]\n",
            " [10 34]]\n"
          ],
          "name": "stdout"
        }
      ]
    },
    {
      "cell_type": "code",
      "metadata": {
        "id": "KfWUBoxz9Pcn",
        "colab_type": "code",
        "colab": {
          "base_uri": "https://localhost:8080/",
          "height": 34
        },
        "outputId": "37267680-57ce-433c-d13a-7e4a3ce02754"
      },
      "source": [
        "accuracy_score(y_test, y_pred)"
      ],
      "execution_count": 47,
      "outputs": [
        {
          "output_type": "execute_result",
          "data": {
            "text/plain": [
              "0.6923076923076923"
            ]
          },
          "metadata": {
            "tags": []
          },
          "execution_count": 47
        }
      ]
    },
    {
      "cell_type": "code",
      "metadata": {
        "id": "TBwmrZgm9Tjl",
        "colab_type": "code",
        "colab": {
          "base_uri": "https://localhost:8080/",
          "height": 170
        },
        "outputId": "beacbbf2-907d-4252-861b-1da63aa9555d"
      },
      "source": [
        "print(classification_report(y_test, y_pred))"
      ],
      "execution_count": 48,
      "outputs": [
        {
          "output_type": "stream",
          "text": [
            "              precision    recall  f1-score   support\n",
            "\n",
            "           0       0.52      0.52      0.52        21\n",
            "           1       0.77      0.77      0.77        44\n",
            "\n",
            "    accuracy                           0.69        65\n",
            "   macro avg       0.65      0.65      0.65        65\n",
            "weighted avg       0.69      0.69      0.69        65\n",
            "\n"
          ],
          "name": "stdout"
        }
      ]
    },
    {
      "cell_type": "markdown",
      "metadata": {
        "id": "8-PFxchRqSL-",
        "colab_type": "text"
      },
      "source": [
        "##Hyperparameters Tuning"
      ]
    },
    {
      "cell_type": "code",
      "metadata": {
        "id": "_r_I-nMhokNv",
        "colab_type": "code",
        "colab": {
          "base_uri": "https://localhost:8080/",
          "height": 68
        },
        "outputId": "c2bf34b0-e296-4c03-f26f-ce396078f9ad"
      },
      "source": [
        "#List Hyperparameters that we want to tune.\n",
        "leaf_size = list(range(1,50))\n",
        "n_neighbors = list(range(1,30))\n",
        "p=[1,2]\n",
        "#Convert to dictionary\n",
        "hyperparameters = dict(leaf_size=leaf_size, n_neighbors=n_neighbors, p=p)\n",
        "#Create new KNN object\n",
        "knn_2 = KNeighborsClassifier()\n",
        "#Use GridSearch\n",
        "clf = GridSearchCV(knn_2, hyperparameters, cv=10)\n",
        "#Fit the model\n",
        "best_model = clf.fit(X,y)\n",
        "#Print The value of best Hyperparameters\n",
        "print('Best leaf_size:', best_model.best_estimator_.get_params()['leaf_size'])\n",
        "print('Best p:', best_model.best_estimator_.get_params()['p'])\n",
        "print('Best n_neighbors:', best_model.best_estimator_.get_params()['n_neighbors'])"
      ],
      "execution_count": 70,
      "outputs": [
        {
          "output_type": "stream",
          "text": [
            "Best leaf_size: 1\n",
            "Best p: 1\n",
            "Best n_neighbors: 7\n"
          ],
          "name": "stdout"
        }
      ]
    },
    {
      "cell_type": "code",
      "metadata": {
        "id": "488QaCJyp516",
        "colab_type": "code",
        "colab": {
          "base_uri": "https://localhost:8080/",
          "height": 34
        },
        "outputId": "de314039-dab9-4120-f053-6ceac11eb1b3"
      },
      "source": [
        "classifier1 = KNeighborsClassifier(n_neighbors = 7, p = 1)\n",
        "classifier1.fit(X_train, y_train)\n",
        "y_pred = classifier1.predict(X_test)\n",
        "accuracy_score(y_test, y_pred)"
      ],
      "execution_count": 73,
      "outputs": [
        {
          "output_type": "execute_result",
          "data": {
            "text/plain": [
              "0.7538461538461538"
            ]
          },
          "metadata": {
            "tags": []
          },
          "execution_count": 73
        }
      ]
    },
    {
      "cell_type": "code",
      "metadata": {
        "id": "AtNNX99kqFPN",
        "colab_type": "code",
        "colab": {
          "base_uri": "https://localhost:8080/",
          "height": 170
        },
        "outputId": "26905f3d-cf28-4d36-e2e8-1a92bde93c08"
      },
      "source": [
        "print(classification_report(y_test, y_pred))"
      ],
      "execution_count": 74,
      "outputs": [
        {
          "output_type": "stream",
          "text": [
            "              precision    recall  f1-score   support\n",
            "\n",
            "           0       0.63      0.57      0.60        21\n",
            "           1       0.80      0.84      0.82        44\n",
            "\n",
            "    accuracy                           0.75        65\n",
            "   macro avg       0.72      0.71      0.71        65\n",
            "weighted avg       0.75      0.75      0.75        65\n",
            "\n"
          ],
          "name": "stdout"
        }
      ]
    }
  ]
}